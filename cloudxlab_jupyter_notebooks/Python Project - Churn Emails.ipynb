{
 "cells": [
  {
   "cell_type": "code",
   "execution_count": 1,
   "metadata": {},
   "outputs": [],
   "source": [
    "#Python Project - Churn Emails - Count the Number of Lines\n",
    "def number_of_lines():\n",
    "    fhand = open('/cxldata/datasets/project/mbox-short.txt')\n",
    "    inp = fhand.read()\n",
    "    count = 0\n",
    "    for i in inp:\n",
    "        if i == '\\n':\n",
    "            count = count + 1\n",
    "    return count"
   ]
  },
  {
   "cell_type": "code",
   "execution_count": 5,
   "metadata": {},
   "outputs": [],
   "source": [
    "#Python Project - Churn Emails - Count the Number of Subject Lines\n",
    "def count_number_of_lines():\n",
    "    fhand = open('/cxldata/datasets/project/mbox-short.txt')\n",
    "    count = 0\n",
    "    for line in fhand:\n",
    "        if line.startswith(\"Subject:\"):\n",
    "            count = count + 1\n",
    "    return count"
   ]
  },
  {
   "cell_type": "code",
   "execution_count": 18,
   "metadata": {},
   "outputs": [],
   "source": [
    "#Python Project - Churn Emails - Find Average Spam Confidence\n",
    "def average_spam_confidence():\n",
    "    fhand = open('/cxldata/datasets/project/mbox-short.txt')\n",
    "    count = 0\n",
    "    total_spamconf = 0\n",
    "    for line in fhand:\n",
    "        if line.startswith(\"X-DSPAM-Confidence:\"):\n",
    "            inp = line\n",
    "            x = inp.split(\":\")\n",
    "            total_spamconf = float(x[1]) + total_spamconf\n",
    "            count = count + 1\n",
    "    return total_spamconf/count"
   ]
  },
  {
   "cell_type": "code",
   "execution_count": 56,
   "metadata": {},
   "outputs": [
    {
     "name": "stdout",
     "output_type": "stream",
     "text": [
      "['Sat', 'Fri', 'Fri', 'Fri', 'Fri', 'Fri', 'Fri', 'Fri', 'Fri', 'Fri', 'Fri', 'Fri', 'Fri', 'Fri', 'Fri', 'Fri', 'Fri', 'Fri', 'Fri', 'Fri', 'Fri', 'Thu', 'Thu', 'Thu', 'Thu', 'Thu', 'Thu']\n",
      "{'Sat': 1, 'Fri': 20, 'Thu': 6}\n"
     ]
    }
   ],
   "source": [
    "#Python Project - Churn Emails - Find Which Day of the Week the Email was sent - Testing the logic\n",
    "fhand = open('/cxldata/datasets/project/mbox-short.txt')\n",
    "count = 0\n",
    "total_spamconf = 0\n",
    "daylst = []\n",
    "daydict = {}\n",
    "for line in fhand:\n",
    "    if line.startswith(\"From\"):\n",
    "        inp = line\n",
    "        x = inp.split()\n",
    "        if x[0] == \"From\":\n",
    "            #print(x[2])\n",
    "            daylst.append(x[2])\n",
    "print(daylst)\n",
    "\n",
    "for i in daylst:\n",
    "    if i not in daydict:\n",
    "        daydict[i]=daylst.count(i)\n",
    "print(daydict)\n",
    "        \n",
    "    \n",
    "    "
   ]
  },
  {
   "cell_type": "code",
   "execution_count": 29,
   "metadata": {},
   "outputs": [
    {
     "name": "stdout",
     "output_type": "stream",
     "text": [
      "[1, 2, 3, 4, 5]\n"
     ]
    }
   ],
   "source": [
    "x = [1, 2, 3, 4]\n",
    "y = 5\n",
    "x.append(y)\n",
    "print(x)"
   ]
  },
  {
   "cell_type": "code",
   "execution_count": 30,
   "metadata": {},
   "outputs": [
    {
     "data": {
      "text/plain": [
       "[1, 2, 3, 4, 5]"
      ]
     },
     "execution_count": 30,
     "metadata": {},
     "output_type": "execute_result"
    }
   ],
   "source": [
    "x"
   ]
  },
  {
   "cell_type": "code",
   "execution_count": 57,
   "metadata": {},
   "outputs": [],
   "source": [
    "#Python Project - Churn Emails - Find Which Day of the Week the Email was sent\n",
    "def find_email_sent_days():\n",
    "    fhand = open('/cxldata/datasets/project/mbox-short.txt')\n",
    "    daylst = []\n",
    "    daydict = {}\n",
    "    for line in fhand:\n",
    "        if line.startswith(\"From\"):\n",
    "            inp = line\n",
    "            x = inp.split()\n",
    "            if x[0] == \"From\":\n",
    "                #print(x[2])\n",
    "                daylst.append(x[2])\n",
    "    #print(daylst)\n",
    "    for i in daylst:\n",
    "        if i not in daydict:\n",
    "            daydict[i]=daylst.count(i)\n",
    "    #print(daydict)\n",
    "    return daydict"
   ]
  },
  {
   "cell_type": "code",
   "execution_count": 58,
   "metadata": {},
   "outputs": [
    {
     "name": "stdout",
     "output_type": "stream",
     "text": [
      "{'Sat': 1, 'Fri': 20, 'Thu': 6}\n"
     ]
    }
   ],
   "source": [
    "x = find_email_sent_days()\n",
    "print(x)"
   ]
  },
  {
   "cell_type": "code",
   "execution_count": 13,
   "metadata": {},
   "outputs": [],
   "source": [
    "#Python Project - Churn Emails - Count Number of Messages From Each Email Address\n",
    "def count_message_from_email():\n",
    "    fhand = open('/cxldata/datasets/project/mbox-short.txt')\n",
    "    emaillst = []\n",
    "    emaildict = {}\n",
    "    for line in fhand:\n",
    "        if line.startswith(\"From:\"):\n",
    "            inp = line\n",
    "            x = inp.split()\n",
    "            for i in range(0,len(x)):\n",
    "                if \"@\" in x[i]:\n",
    "                    #print(x[i])\n",
    "                    emaillst.append(x[i])\n",
    "    for j in emaillst:\n",
    "        if j not in emaildict:\n",
    "            emaildict[j] = emaillst.count(j)\n",
    "    return emaildict"
   ]
  },
  {
   "cell_type": "code",
   "execution_count": 14,
   "metadata": {},
   "outputs": [
    {
     "name": "stdout",
     "output_type": "stream",
     "text": [
      "{'stephen.marquard@uct.ac.za': 2, 'louis@media.berkeley.edu': 3, 'zqian@umich.edu': 4, 'rjlowe@iupui.edu': 2, 'cwen@iupui.edu': 5, 'gsilver@umich.edu': 3, 'wagnermr@iupui.edu': 1, 'antranig@caret.cam.ac.uk': 1, 'gopal.ramasammycook@gmail.com': 1, 'david.horwitz@uct.ac.za': 4, 'ray@media.berkeley.edu': 1}\n"
     ]
    }
   ],
   "source": [
    "x = count_message_from_email()\n",
    "print(x)"
   ]
  },
  {
   "cell_type": "code",
   "execution_count": 3,
   "metadata": {},
   "outputs": [],
   "source": [
    "#Python Project - Churn Emails - Count Number of Messages From Each Domain\n",
    "def count_message_from_domain():\n",
    "    fhand = open('/cxldata/datasets/project/mbox-short.txt')\n",
    "    domainlst = []\n",
    "    domaindict = {}\n",
    "    for line in fhand:\n",
    "        if line.startswith(\"From:\"):\n",
    "            inp = line\n",
    "            x = inp.split()\n",
    "            for i in range(0,len(x)):\n",
    "                if \"@\" in x[i]:\n",
    "                    #print(x[i])\n",
    "                    a,b = x[i].split(\"@\")\n",
    "                    domainlst.append(b)\n",
    "    for j in domainlst:\n",
    "        if j not in domaindict:\n",
    "            domaindict[j] = domainlst.count(j)\n",
    "    return domaindict"
   ]
  },
  {
   "cell_type": "code",
   "execution_count": 4,
   "metadata": {},
   "outputs": [
    {
     "name": "stdout",
     "output_type": "stream",
     "text": [
      "{'uct.ac.za': 6, 'media.berkeley.edu': 4, 'umich.edu': 7, 'iupui.edu': 8, 'caret.cam.ac.uk': 1, 'gmail.com': 1}\n"
     ]
    }
   ],
   "source": [
    "x = count_message_from_domain()\n",
    "print(x)"
   ]
  },
  {
   "cell_type": "code",
   "execution_count": null,
   "metadata": {},
   "outputs": [],
   "source": []
  }
 ],
 "metadata": {
  "kernelspec": {
   "display_name": "Python 3",
   "language": "python",
   "name": "python3"
  },
  "language_info": {
   "codemirror_mode": {
    "name": "ipython",
    "version": 3
   },
   "file_extension": ".py",
   "mimetype": "text/x-python",
   "name": "python",
   "nbconvert_exporter": "python",
   "pygments_lexer": "ipython3",
   "version": "3.6.8"
  },
  "toc": {
   "base_numbering": 1,
   "nav_menu": {},
   "number_sections": true,
   "sideBar": true,
   "skip_h1_title": false,
   "title_cell": "Table of Contents",
   "title_sidebar": "Contents",
   "toc_cell": false,
   "toc_position": {},
   "toc_section_display": true,
   "toc_window_display": false
  }
 },
 "nbformat": 4,
 "nbformat_minor": 2
}
