{
 "cells": [
  {
   "cell_type": "code",
   "execution_count": 46,
   "metadata": {},
   "outputs": [],
   "source": [
    "import numpy as np\n",
    "import pandas as pd\n",
    "import matplotlib.pyplot as plt\n",
    "import tensorflow as tf\n",
    "import os\n",
    "import gzip\n",
    "from tensorflow.examples.tutorials.mnist import input_data\n",
    "from tensorflow.python import keras\n",
    "from tensorflow.python.keras.models import Sequential\n",
    "from tensorflow.python.keras.layers import Dense, Flatten, Conv2D, Dropout, MaxPooling2D\n",
    "from sklearn.model_selection import train_test_split"
   ]
  },
  {
   "cell_type": "code",
   "execution_count": 34,
   "metadata": {},
   "outputs": [
    {
     "name": "stdout",
     "output_type": "stream",
     "text": [
      "Extracting /cxldata/datasets/project/fashion-mnist/train-images-idx3-ubyte.gz\n",
      "Extracting /cxldata/datasets/project/fashion-mnist/train-labels-idx1-ubyte.gz\n",
      "Extracting /cxldata/datasets/project/fashion-mnist/t10k-images-idx3-ubyte.gz\n",
      "Extracting /cxldata/datasets/project/fashion-mnist/t10k-labels-idx1-ubyte.gz\n"
     ]
    }
   ],
   "source": [
    "batch_size=60000\n",
    "fashion_mnist = input_data.read_data_sets(\"/cxldata/datasets/project/fashion-mnist\")\n",
    "X_train, Y_train = fashion_mnist.train.next_batch(batch_size)"
   ]
  },
  {
   "cell_type": "code",
   "execution_count": 35,
   "metadata": {},
   "outputs": [
    {
     "data": {
      "text/plain": [
       "(60000, 784)"
      ]
     },
     "execution_count": 35,
     "metadata": {},
     "output_type": "execute_result"
    }
   ],
   "source": [
    "X_train.shape"
   ]
  },
  {
   "cell_type": "code",
   "execution_count": 36,
   "metadata": {},
   "outputs": [
    {
     "data": {
      "text/plain": [
       "(60000,)"
      ]
     },
     "execution_count": 36,
     "metadata": {},
     "output_type": "execute_result"
    }
   ],
   "source": [
    "Y_train.shape"
   ]
  },
  {
   "cell_type": "code",
   "execution_count": 37,
   "metadata": {},
   "outputs": [],
   "source": [
    "X_reshaped =  X_train.reshape(X_train.shape[0],28,28,1)"
   ]
  },
  {
   "cell_type": "code",
   "execution_count": 38,
   "metadata": {},
   "outputs": [
    {
     "data": {
      "text/plain": [
       "(60000, 28, 28, 1)"
      ]
     },
     "execution_count": 38,
     "metadata": {},
     "output_type": "execute_result"
    }
   ],
   "source": [
    "X_reshaped.shape"
   ]
  },
  {
   "cell_type": "code",
   "execution_count": 25,
   "metadata": {},
   "outputs": [
    {
     "name": "stderr",
     "output_type": "stream",
     "text": [
      "W1122 08:52:22.276313 139806311958336 deprecation.py:506] From /usr/local/anaconda/lib/python3.6/site-packages/tensorflow/python/ops/init_ops.py:1251: calling VarianceScaling.__init__ (from tensorflow.python.ops.init_ops) with dtype is deprecated and will be removed in a future version.\n",
      "Instructions for updating:\n",
      "Call initializer instance with the dtype argument instead of passing it to the constructor\n"
     ]
    }
   ],
   "source": [
    "model = tf.keras.Sequential([\n",
    "    tf.keras.layers.Flatten(input_shape=(28, 28)),\n",
    "    tf.keras.layers.Dense(128, activation='relu'),\n",
    "    tf.keras.layers.Dense(10, activation='softmax')\n",
    "])"
   ]
  },
  {
   "cell_type": "code",
   "execution_count": 42,
   "metadata": {},
   "outputs": [],
   "source": [
    "model = Sequential()\n",
    "# Add convolution 2D\n",
    "model.add(Conv2D(32, kernel_size=(3, 3),\n",
    "                 activation='relu',\n",
    "                 kernel_initializer='he_normal',\n",
    "                 input_shape=(28, 28,1)))\n",
    "model.add(MaxPooling2D((2, 2)))\n",
    "# Add dropouts to the model\n",
    "model.add(Dropout(0.25))\n",
    "model.add(Conv2D(64, \n",
    "                 kernel_size=(3, 3), \n",
    "                 activation='relu'))\n",
    "model.add(MaxPooling2D(pool_size=(2, 2)))\n",
    "# Add dropouts to the model\n",
    "model.add(Dropout(0.25))\n",
    "model.add(Conv2D(128, (3, 3), activation='relu'))\n",
    "# Add dropouts to the model\n",
    "model.add(Dropout(0.4))\n",
    "model.add(Flatten())\n",
    "model.add(Dense(128, activation='relu'))\n",
    "# Add dropouts to the model\n",
    "model.add(Dropout(0.3))\n",
    "model.add(Dense(10, activation='softmax'))\n",
    "\n",
    "\n",
    "model.compile(loss=keras.losses.categorical_crossentropy,\n",
    "              optimizer='adam',\n",
    "              metrics=['accuracy'])"
   ]
  },
  {
   "cell_type": "code",
   "execution_count": 47,
   "metadata": {},
   "outputs": [],
   "source": [
    "X_train, X_val, y_train, y_val = train_test_split(X_reshaped, Y_train, test_size=0.2, random_state=2018)"
   ]
  },
  {
   "cell_type": "code",
   "execution_count": 48,
   "metadata": {},
   "outputs": [
    {
     "name": "stdout",
     "output_type": "stream",
     "text": [
      "Train on 48000 samples, validate on 12000 samples\n",
      "Epoch 1/50\n",
      "48000/48000 [==============================] - 12s 245us/sample - loss: 0.2769 - acc: 0.8980 - val_loss: 0.2178 - val_acc: 0.9192\n",
      "Epoch 2/50\n",
      "48000/48000 [==============================] - 11s 234us/sample - loss: 0.2653 - acc: 0.9027 - val_loss: 0.2137 - val_acc: 0.9210\n",
      "Epoch 3/50\n",
      "48000/48000 [==============================] - 12s 246us/sample - loss: 0.2602 - acc: 0.9042 - val_loss: 0.2174 - val_acc: 0.9200\n",
      "Epoch 4/50\n",
      "48000/48000 [==============================] - 13s 267us/sample - loss: 0.2553 - acc: 0.9061 - val_loss: 0.2135 - val_acc: 0.9206\n",
      "Epoch 5/50\n",
      "48000/48000 [==============================] - 11s 227us/sample - loss: 0.2530 - acc: 0.9057 - val_loss: 0.2132 - val_acc: 0.9218\n",
      "Epoch 6/50\n",
      "48000/48000 [==============================] - 12s 242us/sample - loss: 0.2490 - acc: 0.9078 - val_loss: 0.2126 - val_acc: 0.9222\n",
      "Epoch 7/50\n",
      "48000/48000 [==============================] - 12s 243us/sample - loss: 0.2433 - acc: 0.9093 - val_loss: 0.2086 - val_acc: 0.9225\n",
      "Epoch 8/50\n",
      "48000/48000 [==============================] - 11s 231us/sample - loss: 0.2440 - acc: 0.9096 - val_loss: 0.2123 - val_acc: 0.9203\n",
      "Epoch 9/50\n",
      "48000/48000 [==============================] - 11s 237us/sample - loss: 0.2382 - acc: 0.9110 - val_loss: 0.2115 - val_acc: 0.9197\n",
      "Epoch 10/50\n",
      "48000/48000 [==============================] - 11s 239us/sample - loss: 0.2369 - acc: 0.9129 - val_loss: 0.2090 - val_acc: 0.9220\n",
      "Epoch 11/50\n",
      "48000/48000 [==============================] - 11s 232us/sample - loss: 0.2350 - acc: 0.9130 - val_loss: 0.2039 - val_acc: 0.9233\n",
      "Epoch 12/50\n",
      "48000/48000 [==============================] - 11s 229us/sample - loss: 0.2311 - acc: 0.9131 - val_loss: 0.2127 - val_acc: 0.9193\n",
      "Epoch 13/50\n",
      "48000/48000 [==============================] - 12s 249us/sample - loss: 0.2275 - acc: 0.9136 - val_loss: 0.2006 - val_acc: 0.9223\n",
      "Epoch 14/50\n",
      "48000/48000 [==============================] - 11s 233us/sample - loss: 0.2217 - acc: 0.9165 - val_loss: 0.2027 - val_acc: 0.9246\n",
      "Epoch 15/50\n",
      "48000/48000 [==============================] - 11s 221us/sample - loss: 0.2211 - acc: 0.9164 - val_loss: 0.2057 - val_acc: 0.9230\n",
      "Epoch 16/50\n",
      "48000/48000 [==============================] - 10s 218us/sample - loss: 0.2187 - acc: 0.9184 - val_loss: 0.2038 - val_acc: 0.9230\n",
      "Epoch 17/50\n",
      "48000/48000 [==============================] - 11s 228us/sample - loss: 0.2140 - acc: 0.9197 - val_loss: 0.2028 - val_acc: 0.9244\n",
      "Epoch 18/50\n",
      "48000/48000 [==============================] - 11s 228us/sample - loss: 0.2123 - acc: 0.9190 - val_loss: 0.2050 - val_acc: 0.9237\n",
      "Epoch 19/50\n",
      "48000/48000 [==============================] - 10s 217us/sample - loss: 0.2136 - acc: 0.9204 - val_loss: 0.1999 - val_acc: 0.9224\n",
      "Epoch 20/50\n",
      "48000/48000 [==============================] - 11s 227us/sample - loss: 0.2125 - acc: 0.9195 - val_loss: 0.2077 - val_acc: 0.9216\n",
      "Epoch 21/50\n",
      "48000/48000 [==============================] - 11s 226us/sample - loss: 0.2117 - acc: 0.9210 - val_loss: 0.2018 - val_acc: 0.9256\n",
      "Epoch 22/50\n",
      "48000/48000 [==============================] - 11s 224us/sample - loss: 0.2051 - acc: 0.9225 - val_loss: 0.1989 - val_acc: 0.9262\n",
      "Epoch 23/50\n",
      "48000/48000 [==============================] - 11s 221us/sample - loss: 0.2053 - acc: 0.9213 - val_loss: 0.1995 - val_acc: 0.9275\n",
      "Epoch 24/50\n",
      "48000/48000 [==============================] - 10s 218us/sample - loss: 0.2009 - acc: 0.9243 - val_loss: 0.1990 - val_acc: 0.9244\n",
      "Epoch 25/50\n",
      "48000/48000 [==============================] - 11s 221us/sample - loss: 0.2006 - acc: 0.9228 - val_loss: 0.2079 - val_acc: 0.9208\n",
      "Epoch 26/50\n",
      "48000/48000 [==============================] - 11s 220us/sample - loss: 0.2024 - acc: 0.9251 - val_loss: 0.2005 - val_acc: 0.9265\n",
      "Epoch 27/50\n",
      "48000/48000 [==============================] - 11s 227us/sample - loss: 0.2038 - acc: 0.9237 - val_loss: 0.1989 - val_acc: 0.9261\n",
      "Epoch 28/50\n",
      "48000/48000 [==============================] - 11s 233us/sample - loss: 0.2007 - acc: 0.9240 - val_loss: 0.1988 - val_acc: 0.9270\n",
      "Epoch 29/50\n",
      "48000/48000 [==============================] - 11s 224us/sample - loss: 0.1963 - acc: 0.9258 - val_loss: 0.1972 - val_acc: 0.9268\n",
      "Epoch 30/50\n",
      "48000/48000 [==============================] - 11s 236us/sample - loss: 0.1977 - acc: 0.9247 - val_loss: 0.1960 - val_acc: 0.9274\n",
      "Epoch 31/50\n",
      "48000/48000 [==============================] - 11s 237us/sample - loss: 0.1932 - acc: 0.9269 - val_loss: 0.2028 - val_acc: 0.9258\n",
      "Epoch 32/50\n",
      "48000/48000 [==============================] - 11s 233us/sample - loss: 0.1932 - acc: 0.9266 - val_loss: 0.2021 - val_acc: 0.9256\n",
      "Epoch 33/50\n",
      "48000/48000 [==============================] - 11s 234us/sample - loss: 0.1935 - acc: 0.9273 - val_loss: 0.2022 - val_acc: 0.9242\n",
      "Epoch 34/50\n",
      "48000/48000 [==============================] - 11s 225us/sample - loss: 0.1885 - acc: 0.9281 - val_loss: 0.1950 - val_acc: 0.9283\n",
      "Epoch 35/50\n",
      "48000/48000 [==============================] - 10s 218us/sample - loss: 0.1908 - acc: 0.9287 - val_loss: 0.1937 - val_acc: 0.9296\n",
      "Epoch 36/50\n",
      "48000/48000 [==============================] - 11s 233us/sample - loss: 0.1917 - acc: 0.9266 - val_loss: 0.1931 - val_acc: 0.9294\n",
      "Epoch 37/50\n",
      "48000/48000 [==============================] - 11s 220us/sample - loss: 0.1874 - acc: 0.9292 - val_loss: 0.2059 - val_acc: 0.9261\n",
      "Epoch 38/50\n",
      "48000/48000 [==============================] - 11s 239us/sample - loss: 0.1876 - acc: 0.9274 - val_loss: 0.2065 - val_acc: 0.9255\n",
      "Epoch 39/50\n",
      "48000/48000 [==============================] - 11s 232us/sample - loss: 0.1870 - acc: 0.9286 - val_loss: 0.1972 - val_acc: 0.9287\n",
      "Epoch 40/50\n",
      "48000/48000 [==============================] - 12s 242us/sample - loss: 0.1828 - acc: 0.9310 - val_loss: 0.1991 - val_acc: 0.9272\n",
      "Epoch 41/50\n",
      "48000/48000 [==============================] - 11s 228us/sample - loss: 0.1843 - acc: 0.9300 - val_loss: 0.1936 - val_acc: 0.9317\n",
      "Epoch 42/50\n",
      "48000/48000 [==============================] - 12s 240us/sample - loss: 0.1879 - acc: 0.9298 - val_loss: 0.1928 - val_acc: 0.9302\n",
      "Epoch 43/50\n",
      "48000/48000 [==============================] - 11s 219us/sample - loss: 0.1803 - acc: 0.9314 - val_loss: 0.1993 - val_acc: 0.9287\n",
      "Epoch 44/50\n",
      "48000/48000 [==============================] - 11s 221us/sample - loss: 0.1838 - acc: 0.9305 - val_loss: 0.1938 - val_acc: 0.9287\n",
      "Epoch 45/50\n",
      "48000/48000 [==============================] - 11s 224us/sample - loss: 0.1772 - acc: 0.9328 - val_loss: 0.1988 - val_acc: 0.9297\n",
      "Epoch 46/50\n",
      "48000/48000 [==============================] - 11s 220us/sample - loss: 0.1823 - acc: 0.9320 - val_loss: 0.1952 - val_acc: 0.9293\n",
      "Epoch 47/50\n",
      "48000/48000 [==============================] - 11s 227us/sample - loss: 0.1780 - acc: 0.9330 - val_loss: 0.2009 - val_acc: 0.9287\n",
      "Epoch 48/50\n",
      "48000/48000 [==============================] - 13s 261us/sample - loss: 0.1799 - acc: 0.9324 - val_loss: 0.1964 - val_acc: 0.9312\n",
      "Epoch 49/50\n",
      "48000/48000 [==============================] - 12s 241us/sample - loss: 0.1766 - acc: 0.9324 - val_loss: 0.2012 - val_acc: 0.9292\n",
      "Epoch 50/50\n",
      "48000/48000 [==============================] - 12s 256us/sample - loss: 0.1757 - acc: 0.9327 - val_loss: 0.1957 - val_acc: 0.9306\n"
     ]
    }
   ],
   "source": [
    "train_model = model.fit(X_train, y_train,\n",
    "                  batch_size=128,\n",
    "                  epochs=50,\n",
    "                  verbose=1,\n",
    "                  validation_data=(X_val, y_val))"
   ]
  },
  {
   "cell_type": "code",
   "execution_count": 49,
   "metadata": {},
   "outputs": [],
   "source": [
    "X_test, Y_test = fashion_mnist.test.next_batch(batch_size)"
   ]
  },
  {
   "cell_type": "code",
   "execution_count": 51,
   "metadata": {},
   "outputs": [],
   "source": [
    "X_test_reshaped =  X_test.reshape(X_test.shape[0],28,28,1)"
   ]
  },
  {
   "cell_type": "code",
   "execution_count": 52,
   "metadata": {},
   "outputs": [
    {
     "name": "stdout",
     "output_type": "stream",
     "text": [
      "20000/20000 [==============================] - 2s 97us/sample - loss: 0.2352 - acc: 0.9170\n",
      "\n",
      "Test accuracy: 0.917\n"
     ]
    }
   ],
   "source": [
    "test_loss, test_acc = model.evaluate(X_test_reshaped, Y_test)\n",
    "\n",
    "print('\\nTest accuracy:', test_acc)"
   ]
  },
  {
   "cell_type": "code",
   "execution_count": null,
   "metadata": {},
   "outputs": [],
   "source": []
  }
 ],
 "metadata": {
  "kernelspec": {
   "display_name": "Python 3",
   "language": "python",
   "name": "python3"
  },
  "language_info": {
   "codemirror_mode": {
    "name": "ipython",
    "version": 3
   },
   "file_extension": ".py",
   "mimetype": "text/x-python",
   "name": "python",
   "nbconvert_exporter": "python",
   "pygments_lexer": "ipython3",
   "version": "3.6.8"
  },
  "toc": {
   "base_numbering": 1,
   "nav_menu": {},
   "number_sections": true,
   "sideBar": true,
   "skip_h1_title": false,
   "title_cell": "Table of Contents",
   "title_sidebar": "Contents",
   "toc_cell": false,
   "toc_position": {},
   "toc_section_display": true,
   "toc_window_display": false
  }
 },
 "nbformat": 4,
 "nbformat_minor": 2
}
