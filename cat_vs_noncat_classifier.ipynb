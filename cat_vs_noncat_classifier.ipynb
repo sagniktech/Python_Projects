{
 "cells": [
  {
   "cell_type": "code",
   "execution_count": 1,
   "metadata": {},
   "outputs": [],
   "source": [
    "import numpy as np\n",
    "import matplotlib.pyplot as plt\n",
    "import h5py\n",
    "from PIL import Image\n",
    "%matplotlib inline"
   ]
  },
  {
   "cell_type": "code",
   "execution_count": 2,
   "metadata": {},
   "outputs": [],
   "source": [
    "# Load training data\n",
    "train_dataset = h5py.File('/cxldata/datasets/project/cat-non-cat/train_catvnoncat.h5', \"r\")\n",
    "train_set_x_orig = np.array(train_dataset[\"train_set_x\"][:]) # train set features\n",
    "train_set_y_orig = np.array(train_dataset[\"train_set_y\"][:]) # train set labels"
   ]
  },
  {
   "cell_type": "code",
   "execution_count": 3,
   "metadata": {},
   "outputs": [],
   "source": [
    "# Load test data\n",
    "test_dataset = h5py.File('/cxldata/datasets/project/cat-non-cat/test_catvnoncat.h5', \"r\")\n",
    "test_set_x_orig = np.array(test_dataset[\"test_set_x\"][:]) # test set features\n",
    "test_set_y_orig = np.array(test_dataset[\"test_set_y\"][:]) # test set labels"
   ]
  },
  {
   "cell_type": "code",
   "execution_count": 20,
   "metadata": {},
   "outputs": [
    {
     "name": "stdout",
     "output_type": "stream",
     "text": [
      "[b'non-cat' b'cat']\n"
     ]
    }
   ],
   "source": [
    "# Check all the classes\n",
    "classes = np.array(test_dataset[\"list_classes\"][:])\n",
    "print(classes)"
   ]
  },
  {
   "cell_type": "code",
   "execution_count": 19,
   "metadata": {},
   "outputs": [
    {
     "data": {
      "text/plain": [
       "209"
      ]
     },
     "execution_count": 19,
     "metadata": {},
     "output_type": "execute_result"
    }
   ],
   "source": [
    "train_set_y_orig.shape[0]"
   ]
  },
  {
   "cell_type": "code",
   "execution_count": 6,
   "metadata": {},
   "outputs": [],
   "source": [
    "# Reshape the train and test set labels\n",
    "train_set_y = train_set_y_orig.reshape((1, train_set_y_orig.shape[0]))\n",
    "test_set_y = test_set_y_orig.reshape((1, test_set_y_orig.shape[0]))"
   ]
  },
  {
   "cell_type": "code",
   "execution_count": 7,
   "metadata": {},
   "outputs": [
    {
     "name": "stdout",
     "output_type": "stream",
     "text": [
      "[1]\n",
      "cat\n"
     ]
    },
    {
     "data": {
      "image/png": "[encoded data removed]",
      "text/plain": [
       "<Figure size 432x288 with 1 Axes>"
      ]
     },
     "metadata": {
      "needs_background": "light"
     },
     "output_type": "display_data"
    }
   ],
   "source": [
    "index = 50\n",
    "plt.imshow(train_set_x_orig[index]) # You should see a cat image\n",
    "y = train_set_y[:, index]\n",
    "y_class = classes[np.squeeze(train_set_y[:, index])].decode(\"utf-8\")\n",
    "print(y)\n",
    "print(y_class)"
   ]
  },
  {
   "cell_type": "code",
   "execution_count": 21,
   "metadata": {},
   "outputs": [
    {
     "name": "stdout",
     "output_type": "stream",
     "text": [
      "Shape of train set feature (188, 64, 64, 3)\n",
      "Shape of validation set feature (21, 64, 64, 3)\n",
      "Shape of train set label (188,)\n",
      "Shape of validation set label (21,)\n"
     ]
    }
   ],
   "source": [
    "from sklearn.model_selection import train_test_split\n",
    "X_train,X_val,Y_train,Y_val = train_test_split(train_set_x_orig,train_set_y_orig,test_size = 0.1)\n",
    "print('Shape of train set feature',X_train.shape)\n",
    "print('Shape of validation set feature',X_val.shape)\n",
    "print('Shape of train set label',Y_train.shape)\n",
    "print('Shape of validation set label',Y_val.shape)\n",
    "#ntrain = len(X_train)\n",
    "#nval = len(X_val)"
   ]
  },
  {
   "cell_type": "code",
   "execution_count": 14,
   "metadata": {},
   "outputs": [],
   "source": [
    "from tensorflow.keras import layers\n",
    "from tensorflow.keras import models\n",
    "from tensorflow.keras import optimizers"
   ]
  },
  {
   "cell_type": "code",
   "execution_count": 23,
   "metadata": {},
   "outputs": [],
   "source": [
    "model = models.Sequential()\n",
    "model.add(layers.Conv2D(32, (3,3), activation = 'relu', input_shape=(64,64,3)))\n",
    "model.add(layers.MaxPooling2D((2,2)))\n",
    "model.add(layers.Conv2D(64, (3,3), activation = 'relu'))\n",
    "model.add(layers.MaxPooling2D((2,2)))\n",
    "model.add(layers.Conv2D(128, (3,3), activation = 'relu'))\n",
    "model.add(layers.MaxPooling2D((2,2)))\n",
    "model.add(layers.Conv2D(128, (3,3), activation = 'relu'))\n",
    "model.add(layers.MaxPooling2D((2,2)))\n",
    "model.add(layers.Flatten())\n",
    "model.add(layers.Dropout(0.5))\n",
    "model.add(layers.Dense(512,activation='relu'))\n",
    "model.add(layers.Dense(1,activation='sigmoid'))"
   ]
  },
  {
   "cell_type": "code",
   "execution_count": 24,
   "metadata": {},
   "outputs": [],
   "source": [
    "model.compile(loss='binary_crossentropy',optimizer='adagrad',metrics=['accuracy'])"
   ]
  },
  {
   "cell_type": "code",
   "execution_count": 25,
   "metadata": {},
   "outputs": [
    {
     "name": "stdout",
     "output_type": "stream",
     "text": [
      "Train on 188 samples, validate on 21 samples\n",
      "Epoch 1/100\n",
      "188/188 [==============================] - 1s 5ms/sample - loss: 11.0232 - accuracy: 0.5372 - val_loss: 2.6231 - val_accuracy: 0.3810\n",
      "Epoch 2/100\n",
      "188/188 [==============================] - 0s 2ms/sample - loss: 1.9300 - accuracy: 0.5798 - val_loss: 2.1959 - val_accuracy: 0.6190\n",
      "Epoch 3/100\n",
      "188/188 [==============================] - 0s 2ms/sample - loss: 1.3120 - accuracy: 0.6277 - val_loss: 1.0376 - val_accuracy: 0.6190\n",
      "Epoch 4/100\n",
      "188/188 [==============================] - 0s 2ms/sample - loss: 0.9793 - accuracy: 0.6755 - val_loss: 0.7386 - val_accuracy: 0.8095\n",
      "Epoch 5/100\n",
      "188/188 [==============================] - 0s 2ms/sample - loss: 0.8838 - accuracy: 0.6223 - val_loss: 0.9360 - val_accuracy: 0.6667\n",
      "Epoch 6/100\n",
      "188/188 [==============================] - 0s 2ms/sample - loss: 0.6814 - accuracy: 0.6809 - val_loss: 0.7734 - val_accuracy: 0.6667\n",
      "Epoch 7/100\n",
      "188/188 [==============================] - 0s 2ms/sample - loss: 0.5382 - accuracy: 0.7872 - val_loss: 0.9276 - val_accuracy: 0.6190\n",
      "Epoch 8/100\n",
      "188/188 [==============================] - 0s 2ms/sample - loss: 0.5266 - accuracy: 0.7500 - val_loss: 0.8940 - val_accuracy: 0.6667\n",
      "Epoch 9/100\n",
      "188/188 [==============================] - 0s 2ms/sample - loss: 0.4409 - accuracy: 0.7979 - val_loss: 0.6731 - val_accuracy: 0.8095\n",
      "Epoch 10/100\n",
      "188/188 [==============================] - 0s 2ms/sample - loss: 0.3721 - accuracy: 0.7979 - val_loss: 0.6684 - val_accuracy: 0.8095\n",
      "Epoch 11/100\n",
      "188/188 [==============================] - 0s 2ms/sample - loss: 0.4237 - accuracy: 0.8085 - val_loss: 0.6407 - val_accuracy: 0.8571\n",
      "Epoch 12/100\n",
      "188/188 [==============================] - 0s 2ms/sample - loss: 0.3409 - accuracy: 0.8564 - val_loss: 0.7599 - val_accuracy: 0.8571\n",
      "Epoch 13/100\n",
      "188/188 [==============================] - 0s 2ms/sample - loss: 0.3598 - accuracy: 0.8511 - val_loss: 0.6597 - val_accuracy: 0.8571\n",
      "Epoch 14/100\n",
      "188/188 [==============================] - 0s 2ms/sample - loss: 0.3115 - accuracy: 0.8457 - val_loss: 0.8275 - val_accuracy: 0.7619\n",
      "Epoch 15/100\n",
      "188/188 [==============================] - 0s 2ms/sample - loss: 0.3109 - accuracy: 0.8830 - val_loss: 0.6937 - val_accuracy: 0.7619\n",
      "Epoch 16/100\n",
      "188/188 [==============================] - 0s 2ms/sample - loss: 0.3249 - accuracy: 0.8511 - val_loss: 0.7590 - val_accuracy: 0.8571\n",
      "Epoch 17/100\n",
      "188/188 [==============================] - 0s 2ms/sample - loss: 0.3390 - accuracy: 0.8511 - val_loss: 0.6340 - val_accuracy: 0.8571\n",
      "Epoch 18/100\n",
      "188/188 [==============================] - 0s 2ms/sample - loss: 0.2731 - accuracy: 0.8830 - val_loss: 0.8448 - val_accuracy: 0.7619\n",
      "Epoch 19/100\n",
      "188/188 [==============================] - 0s 2ms/sample - loss: 0.2629 - accuracy: 0.8777 - val_loss: 0.7418 - val_accuracy: 0.8571\n",
      "Epoch 20/100\n",
      "188/188 [==============================] - 0s 2ms/sample - loss: 0.2699 - accuracy: 0.8830 - val_loss: 0.7057 - val_accuracy: 0.8571\n",
      "Epoch 21/100\n",
      "188/188 [==============================] - 0s 2ms/sample - loss: 0.2176 - accuracy: 0.9043 - val_loss: 0.7177 - val_accuracy: 0.8571\n",
      "Epoch 22/100\n",
      "188/188 [==============================] - 0s 2ms/sample - loss: 0.2433 - accuracy: 0.8989 - val_loss: 0.8865 - val_accuracy: 0.8095\n",
      "Epoch 23/100\n",
      "188/188 [==============================] - 0s 2ms/sample - loss: 0.2242 - accuracy: 0.9096 - val_loss: 0.6867 - val_accuracy: 0.8571\n",
      "Epoch 24/100\n",
      "188/188 [==============================] - 0s 2ms/sample - loss: 0.2310 - accuracy: 0.9043 - val_loss: 0.6520 - val_accuracy: 0.8571\n",
      "Epoch 25/100\n",
      "188/188 [==============================] - 0s 2ms/sample - loss: 0.2181 - accuracy: 0.8936 - val_loss: 0.7420 - val_accuracy: 0.8571\n",
      "Epoch 26/100\n",
      "188/188 [==============================] - 0s 2ms/sample - loss: 0.1876 - accuracy: 0.9255 - val_loss: 0.7031 - val_accuracy: 0.8571\n",
      "Epoch 27/100\n",
      "188/188 [==============================] - 0s 2ms/sample - loss: 0.1786 - accuracy: 0.9202 - val_loss: 0.6596 - val_accuracy: 0.7619\n",
      "Epoch 28/100\n",
      "188/188 [==============================] - 0s 2ms/sample - loss: 0.1787 - accuracy: 0.9574 - val_loss: 0.7637 - val_accuracy: 0.8571\n",
      "Epoch 29/100\n",
      "188/188 [==============================] - 0s 2ms/sample - loss: 0.2081 - accuracy: 0.8883 - val_loss: 0.8765 - val_accuracy: 0.8571\n",
      "Epoch 30/100\n",
      "188/188 [==============================] - 0s 2ms/sample - loss: 0.1965 - accuracy: 0.9149 - val_loss: 0.8314 - val_accuracy: 0.8571\n",
      "Epoch 31/100\n",
      "188/188 [==============================] - 0s 2ms/sample - loss: 0.2022 - accuracy: 0.9096 - val_loss: 0.7837 - val_accuracy: 0.8571\n",
      "Epoch 32/100\n",
      "188/188 [==============================] - 0s 2ms/sample - loss: 0.1692 - accuracy: 0.9362 - val_loss: 0.8326 - val_accuracy: 0.8571\n",
      "Epoch 33/100\n",
      "188/188 [==============================] - 0s 2ms/sample - loss: 0.1845 - accuracy: 0.9415 - val_loss: 0.8655 - val_accuracy: 0.8095\n",
      "Epoch 34/100\n",
      "188/188 [==============================] - 0s 2ms/sample - loss: 0.1650 - accuracy: 0.9521 - val_loss: 0.6983 - val_accuracy: 0.8571\n",
      "Epoch 35/100\n",
      "188/188 [==============================] - 0s 2ms/sample - loss: 0.1474 - accuracy: 0.9468 - val_loss: 0.7572 - val_accuracy: 0.8571\n",
      "Epoch 36/100\n",
      "188/188 [==============================] - 0s 2ms/sample - loss: 0.1516 - accuracy: 0.9415 - val_loss: 0.7240 - val_accuracy: 0.8571\n",
      "Epoch 37/100\n",
      "188/188 [==============================] - 0s 2ms/sample - loss: 0.1328 - accuracy: 0.9734 - val_loss: 0.7047 - val_accuracy: 0.8571\n",
      "Epoch 38/100\n",
      "188/188 [==============================] - 0s 2ms/sample - loss: 0.1850 - accuracy: 0.9255 - val_loss: 0.6788 - val_accuracy: 0.8571\n",
      "Epoch 39/100\n",
      "188/188 [==============================] - 0s 2ms/sample - loss: 0.1589 - accuracy: 0.9362 - val_loss: 0.6900 - val_accuracy: 0.8571\n",
      "Epoch 40/100\n",
      "188/188 [==============================] - 0s 2ms/sample - loss: 0.1643 - accuracy: 0.9149 - val_loss: 1.0468 - val_accuracy: 0.7143\n",
      "Epoch 41/100\n",
      "188/188 [==============================] - 0s 2ms/sample - loss: 0.1344 - accuracy: 0.9628 - val_loss: 0.7328 - val_accuracy: 0.8571\n",
      "Epoch 42/100\n",
      "188/188 [==============================] - 0s 2ms/sample - loss: 0.1538 - accuracy: 0.9362 - val_loss: 0.7633 - val_accuracy: 0.8571\n",
      "Epoch 43/100\n",
      "188/188 [==============================] - 0s 2ms/sample - loss: 0.1082 - accuracy: 0.9894 - val_loss: 0.8636 - val_accuracy: 0.8571\n",
      "Epoch 44/100\n",
      "188/188 [==============================] - 0s 2ms/sample - loss: 0.1597 - accuracy: 0.9309 - val_loss: 0.6781 - val_accuracy: 0.8571\n",
      "Epoch 45/100\n",
      "188/188 [==============================] - 0s 2ms/sample - loss: 0.1241 - accuracy: 0.9415 - val_loss: 0.7151 - val_accuracy: 0.8571\n",
      "Epoch 46/100\n",
      "188/188 [==============================] - 0s 2ms/sample - loss: 0.1478 - accuracy: 0.9362 - val_loss: 0.6729 - val_accuracy: 0.9048\n",
      "Epoch 47/100\n",
      "188/188 [==============================] - 0s 2ms/sample - loss: 0.1072 - accuracy: 0.9681 - val_loss: 0.7835 - val_accuracy: 0.8571\n",
      "Epoch 48/100\n",
      "188/188 [==============================] - 0s 2ms/sample - loss: 0.0907 - accuracy: 0.9628 - val_loss: 0.8946 - val_accuracy: 0.8571\n",
      "Epoch 49/100\n",
      "188/188 [==============================] - 0s 2ms/sample - loss: 0.0860 - accuracy: 0.9681 - val_loss: 0.8012 - val_accuracy: 0.8571\n",
      "Epoch 50/100\n",
      "188/188 [==============================] - 0s 2ms/sample - loss: 0.1240 - accuracy: 0.9468 - val_loss: 0.7601 - val_accuracy: 0.8571\n",
      "Epoch 51/100\n",
      "188/188 [==============================] - 0s 2ms/sample - loss: 0.0610 - accuracy: 0.9947 - val_loss: 0.9140 - val_accuracy: 0.8571\n",
      "Epoch 52/100\n",
      "188/188 [==============================] - 0s 2ms/sample - loss: 0.1207 - accuracy: 0.9362 - val_loss: 0.8782 - val_accuracy: 0.8571\n",
      "Epoch 53/100\n",
      "188/188 [==============================] - 0s 2ms/sample - loss: 0.1028 - accuracy: 0.9681 - val_loss: 0.7583 - val_accuracy: 0.9048\n",
      "Epoch 54/100\n",
      "188/188 [==============================] - 0s 2ms/sample - loss: 0.0918 - accuracy: 0.9681 - val_loss: 0.9021 - val_accuracy: 0.8571\n",
      "Epoch 55/100\n",
      "188/188 [==============================] - 0s 2ms/sample - loss: 0.1305 - accuracy: 0.9628 - val_loss: 0.9158 - val_accuracy: 0.8571\n",
      "Epoch 56/100\n",
      "188/188 [==============================] - 0s 2ms/sample - loss: 0.1251 - accuracy: 0.9468 - val_loss: 0.8949 - val_accuracy: 0.8571\n"
     ]
    },
    {
     "name": "stdout",
     "output_type": "stream",
     "text": [
      "Epoch 57/100\n",
      "188/188 [==============================] - 0s 2ms/sample - loss: 0.1092 - accuracy: 0.9628 - val_loss: 0.8633 - val_accuracy: 0.8571\n",
      "Epoch 58/100\n",
      "188/188 [==============================] - 0s 2ms/sample - loss: 0.0887 - accuracy: 0.9734 - val_loss: 0.8451 - val_accuracy: 0.8571\n",
      "Epoch 59/100\n",
      "188/188 [==============================] - 0s 2ms/sample - loss: 0.0598 - accuracy: 0.9894 - val_loss: 0.9869 - val_accuracy: 0.8571\n",
      "Epoch 60/100\n",
      "188/188 [==============================] - 0s 2ms/sample - loss: 0.0663 - accuracy: 0.9947 - val_loss: 0.7663 - val_accuracy: 0.8571\n",
      "Epoch 61/100\n",
      "188/188 [==============================] - 0s 2ms/sample - loss: 0.0743 - accuracy: 0.9894 - val_loss: 0.9274 - val_accuracy: 0.8571\n",
      "Epoch 62/100\n",
      "188/188 [==============================] - 0s 2ms/sample - loss: 0.1052 - accuracy: 0.9628 - val_loss: 0.8503 - val_accuracy: 0.8571\n",
      "Epoch 63/100\n",
      "188/188 [==============================] - 0s 2ms/sample - loss: 0.0843 - accuracy: 0.9681 - val_loss: 0.7697 - val_accuracy: 0.9048\n",
      "Epoch 64/100\n",
      "188/188 [==============================] - 0s 2ms/sample - loss: 0.0842 - accuracy: 0.9787 - val_loss: 0.9490 - val_accuracy: 0.8571\n",
      "Epoch 65/100\n",
      "188/188 [==============================] - 0s 2ms/sample - loss: 0.1075 - accuracy: 0.9734 - val_loss: 0.7992 - val_accuracy: 0.8571\n",
      "Epoch 66/100\n",
      "188/188 [==============================] - 0s 2ms/sample - loss: 0.0863 - accuracy: 0.9681 - val_loss: 0.8971 - val_accuracy: 0.8571\n",
      "Epoch 67/100\n",
      "188/188 [==============================] - 0s 2ms/sample - loss: 0.0772 - accuracy: 0.9734 - val_loss: 0.9476 - val_accuracy: 0.8571\n",
      "Epoch 68/100\n",
      "188/188 [==============================] - 0s 2ms/sample - loss: 0.0956 - accuracy: 0.9681 - val_loss: 0.8248 - val_accuracy: 0.8571\n",
      "Epoch 69/100\n",
      "188/188 [==============================] - 0s 2ms/sample - loss: 0.0791 - accuracy: 0.9787 - val_loss: 0.8201 - val_accuracy: 0.8571\n",
      "Epoch 70/100\n",
      "188/188 [==============================] - 0s 2ms/sample - loss: 0.0695 - accuracy: 0.9894 - val_loss: 0.8263 - val_accuracy: 0.8571\n",
      "Epoch 71/100\n",
      "188/188 [==============================] - 0s 2ms/sample - loss: 0.0658 - accuracy: 0.9840 - val_loss: 0.8380 - val_accuracy: 0.8571\n",
      "Epoch 72/100\n",
      "188/188 [==============================] - 0s 2ms/sample - loss: 0.0909 - accuracy: 0.9681 - val_loss: 0.8294 - val_accuracy: 0.8571\n",
      "Epoch 73/100\n",
      "188/188 [==============================] - 0s 2ms/sample - loss: 0.0621 - accuracy: 0.9840 - val_loss: 0.9162 - val_accuracy: 0.8571\n",
      "Epoch 74/100\n",
      "188/188 [==============================] - 0s 2ms/sample - loss: 0.0557 - accuracy: 0.9894 - val_loss: 0.9125 - val_accuracy: 0.8571\n",
      "Epoch 75/100\n",
      "188/188 [==============================] - 0s 2ms/sample - loss: 0.0699 - accuracy: 0.9734 - val_loss: 0.8260 - val_accuracy: 0.8571\n",
      "Epoch 76/100\n",
      "188/188 [==============================] - 0s 2ms/sample - loss: 0.0535 - accuracy: 1.0000 - val_loss: 0.9602 - val_accuracy: 0.8571\n",
      "Epoch 77/100\n",
      "188/188 [==============================] - 0s 2ms/sample - loss: 0.0529 - accuracy: 0.9840 - val_loss: 0.9499 - val_accuracy: 0.8571\n",
      "Epoch 78/100\n",
      "188/188 [==============================] - 0s 2ms/sample - loss: 0.0653 - accuracy: 0.9840 - val_loss: 0.7549 - val_accuracy: 0.9048\n",
      "Epoch 79/100\n",
      "188/188 [==============================] - 0s 2ms/sample - loss: 0.0528 - accuracy: 0.9947 - val_loss: 0.9201 - val_accuracy: 0.8571\n",
      "Epoch 80/100\n",
      "188/188 [==============================] - 0s 2ms/sample - loss: 0.0434 - accuracy: 0.9947 - val_loss: 0.8993 - val_accuracy: 0.8571\n",
      "Epoch 81/100\n",
      "188/188 [==============================] - 0s 2ms/sample - loss: 0.0571 - accuracy: 0.9947 - val_loss: 0.9023 - val_accuracy: 0.8571\n",
      "Epoch 82/100\n",
      "188/188 [==============================] - 0s 2ms/sample - loss: 0.0493 - accuracy: 1.0000 - val_loss: 0.8225 - val_accuracy: 0.8571\n",
      "Epoch 83/100\n",
      "188/188 [==============================] - 0s 2ms/sample - loss: 0.0638 - accuracy: 0.9734 - val_loss: 0.9323 - val_accuracy: 0.8571\n",
      "Epoch 84/100\n",
      "188/188 [==============================] - 0s 2ms/sample - loss: 0.0396 - accuracy: 0.9947 - val_loss: 1.0369 - val_accuracy: 0.8571\n",
      "Epoch 85/100\n",
      "188/188 [==============================] - 0s 2ms/sample - loss: 0.0543 - accuracy: 0.9840 - val_loss: 0.8196 - val_accuracy: 0.9048\n",
      "Epoch 86/100\n",
      "188/188 [==============================] - 0s 2ms/sample - loss: 0.0375 - accuracy: 0.9947 - val_loss: 0.9529 - val_accuracy: 0.8571\n",
      "Epoch 87/100\n",
      "188/188 [==============================] - 0s 2ms/sample - loss: 0.0473 - accuracy: 0.9894 - val_loss: 0.9730 - val_accuracy: 0.8571\n",
      "Epoch 88/100\n",
      "188/188 [==============================] - 0s 2ms/sample - loss: 0.0599 - accuracy: 0.9734 - val_loss: 0.9887 - val_accuracy: 0.8571\n",
      "Epoch 89/100\n",
      "188/188 [==============================] - 0s 2ms/sample - loss: 0.0529 - accuracy: 0.9947 - val_loss: 0.8947 - val_accuracy: 0.8571\n",
      "Epoch 90/100\n",
      "188/188 [==============================] - 0s 2ms/sample - loss: 0.0571 - accuracy: 0.9840 - val_loss: 0.8369 - val_accuracy: 0.9048\n",
      "Epoch 91/100\n",
      "188/188 [==============================] - 0s 2ms/sample - loss: 0.0366 - accuracy: 0.9894 - val_loss: 0.9695 - val_accuracy: 0.8571\n",
      "Epoch 92/100\n",
      "188/188 [==============================] - 0s 2ms/sample - loss: 0.0541 - accuracy: 0.9787 - val_loss: 0.8030 - val_accuracy: 0.9048\n",
      "Epoch 93/100\n",
      "188/188 [==============================] - 0s 2ms/sample - loss: 0.0496 - accuracy: 0.9840 - val_loss: 0.9604 - val_accuracy: 0.8571\n",
      "Epoch 94/100\n",
      "188/188 [==============================] - 0s 2ms/sample - loss: 0.0624 - accuracy: 0.9840 - val_loss: 0.8500 - val_accuracy: 0.8571\n",
      "Epoch 95/100\n",
      "188/188 [==============================] - 0s 2ms/sample - loss: 0.0420 - accuracy: 0.9840 - val_loss: 0.8776 - val_accuracy: 0.8571\n",
      "Epoch 96/100\n",
      "188/188 [==============================] - 0s 2ms/sample - loss: 0.0534 - accuracy: 0.9894 - val_loss: 0.8631 - val_accuracy: 0.9048\n",
      "Epoch 97/100\n",
      "188/188 [==============================] - 0s 2ms/sample - loss: 0.0380 - accuracy: 0.9947 - val_loss: 0.8644 - val_accuracy: 0.9048\n",
      "Epoch 98/100\n",
      "188/188 [==============================] - 0s 2ms/sample - loss: 0.0476 - accuracy: 0.9894 - val_loss: 0.8970 - val_accuracy: 0.9048\n",
      "Epoch 99/100\n",
      "188/188 [==============================] - 0s 2ms/sample - loss: 0.0529 - accuracy: 0.9734 - val_loss: 0.9060 - val_accuracy: 0.8571\n",
      "Epoch 100/100\n",
      "188/188 [==============================] - 0s 2ms/sample - loss: 0.0594 - accuracy: 0.9840 - val_loss: 0.9060 - val_accuracy: 0.9048\n"
     ]
    },
    {
     "data": {
      "text/plain": [
       "<tensorflow.python.keras.callbacks.History at 0x7fe6cef468d0>"
      ]
     },
     "execution_count": 25,
     "metadata": {},
     "output_type": "execute_result"
    }
   ],
   "source": [
    "model.fit(X_train, Y_train,validation_data = (X_val, Y_val),epochs=100, batch_size=16)"
   ]
  },
  {
   "cell_type": "code",
   "execution_count": 26,
   "metadata": {},
   "outputs": [],
   "source": [
    "pred = model.predict(test_set_x_orig)"
   ]
  },
  {
   "cell_type": "code",
   "execution_count": 28,
   "metadata": {},
   "outputs": [],
   "source": [
    "preds= []\n",
    "for i in pred:\n",
    "    if i>=0.5:\n",
    "        preds.append(1)\n",
    "    else:\n",
    "        preds.append(0)"
   ]
  },
  {
   "cell_type": "code",
   "execution_count": 29,
   "metadata": {},
   "outputs": [
    {
     "data": {
      "text/plain": [
       "0.9090909090909091"
      ]
     },
     "execution_count": 29,
     "metadata": {},
     "output_type": "execute_result"
    }
   ],
   "source": [
    "sum(preds)/sum(test_set_y_orig)"
   ]
  },
  {
   "cell_type": "code",
   "execution_count": null,
   "metadata": {},
   "outputs": [],
   "source": []
  }
 ],
 "metadata": {
  "kernelspec": {
   "display_name": "tensorflow2",
   "language": "python",
   "name": "tensorflow2"
  },
  "language_info": {
   "codemirror_mode": {
    "name": "ipython",
    "version": 3
   },
   "file_extension": ".py",
   "mimetype": "text/x-python",
   "name": "python",
   "nbconvert_exporter": "python",
   "pygments_lexer": "ipython3",
   "version": "3.6.8"
  },
  "toc": {
   "base_numbering": 1,
   "nav_menu": {},
   "number_sections": true,
   "sideBar": true,
   "skip_h1_title": false,
   "title_cell": "Table of Contents",
   "title_sidebar": "Contents",
   "toc_cell": false,
   "toc_position": {},
   "toc_section_display": true,
   "toc_window_display": false
  }
 },
 "nbformat": 4,
 "nbformat_minor": 2
}
